{
 "cells": [
  {
   "cell_type": "code",
   "execution_count": 175,
   "id": "86bdb599-3d6a-4a9c-b5dc-433f928474a5",
   "metadata": {},
   "outputs": [],
   "source": [
    "a = ['fox', 12.5j,85.22, 'cat']"
   ]
  },
  {
   "cell_type": "code",
   "execution_count": 176,
   "id": "5972e202-9b2b-4f3c-8121-381106ebd1de",
   "metadata": {},
   "outputs": [
    {
     "data": {
      "text/plain": [
       "list"
      ]
     },
     "execution_count": 176,
     "metadata": {},
     "output_type": "execute_result"
    }
   ],
   "source": [
    "type(a)"
   ]
  },
  {
   "cell_type": "code",
   "execution_count": 177,
   "id": "a964bf43-0f6a-42ec-a498-e6d168acc2b6",
   "metadata": {},
   "outputs": [
    {
     "data": {
      "text/plain": [
       "85.22"
      ]
     },
     "execution_count": 177,
     "metadata": {},
     "output_type": "execute_result"
    }
   ],
   "source": [
    "a[-2]"
   ]
  },
  {
   "cell_type": "code",
   "execution_count": 178,
   "id": "5bd72755-0583-4785-b24c-80f1194cc891",
   "metadata": {},
   "outputs": [],
   "source": [
    "b = 'fox'"
   ]
  },
  {
   "cell_type": "code",
   "execution_count": 179,
   "id": "34a78cb1-f7d7-4a82-93d8-cf94ac245085",
   "metadata": {},
   "outputs": [],
   "source": [
    "a[-2]=87"
   ]
  },
  {
   "cell_type": "code",
   "execution_count": 180,
   "id": "bcca699a-b11c-4017-b5d7-16ba84c5ea5b",
   "metadata": {},
   "outputs": [],
   "source": [
    "Employee = ['Shahbaz','Arif', 'Ishrat', 'Hussain', 'Inder']"
   ]
  },
  {
   "cell_type": "code",
   "execution_count": 181,
   "id": "7dc0acc1-7496-4ad1-a28d-a54f50854938",
   "metadata": {},
   "outputs": [],
   "source": [
    "Employee[2] = 'Fox'"
   ]
  },
  {
   "cell_type": "code",
   "execution_count": 182,
   "id": "a9aafeb9-a5cf-4a4a-bc47-e93f7be0d48c",
   "metadata": {},
   "outputs": [
    {
     "data": {
      "text/plain": [
       "['Shahbaz', 'Arif', 'Fox', 'Hussain', 'Inder']"
      ]
     },
     "execution_count": 182,
     "metadata": {},
     "output_type": "execute_result"
    }
   ],
   "source": [
    "Employee"
   ]
  }
 ],
 "metadata": {
  "kernelspec": {
   "display_name": "Python 3 (ipykernel)",
   "language": "python",
   "name": "python3"
  },
  "language_info": {
   "codemirror_mode": {
    "name": "ipython",
    "version": 3
   },
   "file_extension": ".py",
   "mimetype": "text/x-python",
   "name": "python",
   "nbconvert_exporter": "python",
   "pygments_lexer": "ipython3",
   "version": "3.10.8"
  }
 },
 "nbformat": 4,
 "nbformat_minor": 5
}
